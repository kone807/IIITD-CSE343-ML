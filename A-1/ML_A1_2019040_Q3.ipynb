{
 "cells": [
  {
   "cell_type": "markdown",
   "metadata": {},
   "source": [
    "# CSE 343 Machine Learning A-1"
   ]
  },
  {
   "cell_type": "markdown",
   "metadata": {},
   "source": [
    "## Q3 Naive Bayes"
   ]
  },
  {
   "cell_type": "markdown",
   "metadata": {},
   "source": [
    "### Preprocessing and EDA"
   ]
  },
  {
   "cell_type": "code",
   "execution_count": 12,
   "metadata": {},
   "outputs": [
    {
     "data": {
      "text/plain": [
       "((60000, 28, 28), (60000,), (10000, 28, 28), (10000,))"
      ]
     },
     "execution_count": 12,
     "metadata": {},
     "output_type": "execute_result"
    }
   ],
   "source": [
    "import numpy as np\n",
    "import pandas as pd\n",
    "import matplotlib.pyplot as plt\n",
    "import idx2numpy\n",
    "\n",
    "## loading the dataset\n",
    "x_train = idx2numpy.convert_from_file(\"train-images-idx3-ubyte\")\n",
    "x_test = idx2numpy.convert_from_file(\"t10k-images-idx3-ubyte\")\n",
    "y_train = idx2numpy.convert_from_file(\"train-labels-idx1-ubyte\")\n",
    "y_test = idx2numpy.convert_from_file(\"t10k-labels-idx1-ubyte\")\n",
    "\n",
    "\n",
    "x_train.shape, y_train.shape, x_test.shape, y_test.shape"
   ]
  },
  {
   "cell_type": "code",
   "execution_count": 13,
   "metadata": {},
   "outputs": [
    {
     "data": {
      "text/plain": [
       "((12000, 2), (2000, 2), (12000,), (2000,))"
      ]
     },
     "execution_count": 13,
     "metadata": {},
     "output_type": "execute_result"
    }
   ],
   "source": [
    "## picking only trouser(1) and pullover(2) datapoints\n",
    "x_train=x_train[(y_train==1) | (y_train==2)]\n",
    "y_train=y_train[(y_train==1) | (y_train==2)]\n",
    "\n",
    "x_test=x_test[(y_test==1) | (y_test==2)]\n",
    "y_test=y_test[(y_test==1) | (y_test==2)]\n",
    "\n",
    "xtr=[]\n",
    "for i in range(x_train.shape[0]):\n",
    "    \n",
    "    ## binarizing pixel values to 0,255\n",
    "    c1=(x_train[i]<=127).sum()\n",
    "    c2=(x_train[i]>127).sum()\n",
    "    xtr.append([c1,c2])\n",
    "    \n",
    "xte=[]\n",
    "for i in range(x_test.shape[0]):\n",
    "    \n",
    "    c1=(x_test[i]<=127).sum()\n",
    "    c2=(x_test[i]>127).sum()\n",
    "    xte.append([c1,c2])\n",
    "    \n",
    "x_test = np.array(xte)\n",
    "x_train = np.array(xtr)\n",
    "\n",
    "x_train.shape, x_test.shape, y_train.shape, y_test.shape"
   ]
  },
  {
   "cell_type": "code",
   "execution_count": 14,
   "metadata": {},
   "outputs": [
    {
     "data": {
      "image/png": "[encoded data removed]",
      "text/plain": [
       "<Figure size 432x288 with 2 Axes>"
      ]
     },
     "metadata": {
      "needs_background": "light"
     },
     "output_type": "display_data"
    }
   ],
   "source": [
    "import seaborn as sns\n",
    "\n",
    "df_train = pd.DataFrame(data=np.c_[x_train,y_train],columns=[\"0px\",\"255px\",\"op\"])\n",
    "df_test = pd.DataFrame(data=np.c_[x_test,y_test],columns=[\"0px\",\"255px\",\"op\"])\n",
    "\n",
    "df_train[\"op\"].value_counts(),df_test[\"op\"].value_counts()\n",
    "\n",
    "## creating correlation matrix for the dataset\n",
    "ax = sns.heatmap(df_train.corr(), annot=True)"
   ]
  },
  {
   "cell_type": "code",
   "execution_count": 8,
   "metadata": {},
   "outputs": [
    {
     "data": {
      "image/png": "[encoded data removed]",
      "text/plain": [
       "<Figure size 432x288 with 2 Axes>"
      ]
     },
     "metadata": {
      "needs_background": "light"
     },
     "output_type": "display_data"
    }
   ],
   "source": [
    "axx = sns.heatmap(df_test.corr(), annot=True)"
   ]
  },
  {
   "cell_type": "markdown",
   "metadata": {},
   "source": [
    "### 3.1 Coding Naive Bayes Class"
   ]
  },
  {
   "cell_type": "code",
   "execution_count": 9,
   "metadata": {},
   "outputs": [],
   "source": [
    "class Naive_Bayes:\n",
    "    \n",
    "    def __init__(self):\n",
    "        ## dictionary to store final result\n",
    "        ## format of dictionary = <label, d2> where d2 is another dictionary\n",
    "        ## d2 = <feature,frequency of feature>\n",
    "        \n",
    "        ## for example - a trouser image with 400 pixels with value 0 and 384 pixels with value 255\n",
    "        ## will look like this = result[1][0]=400 and result[1][255]=384\n",
    "        \n",
    "        ## along with this, the dictionary result also has a key to store total count\n",
    "        ## result[\"total_data\"] = total number of datapoints\n",
    "        ## every class also has a count member = result[1][\"total_count\"] and result[2][\"total_count\"]\n",
    "        self.result = {}\n",
    "    \n",
    "    ## function to fit the data to model (training)\n",
    "    def fit(self, x, y):\n",
    "        \n",
    "        ## get all unique class values (1 and 2 in this case)\n",
    "        class_values = set(y)\n",
    "        \n",
    "        self.result[\"total_data\"] = len(y)\n",
    "        \n",
    "        for current_class in class_values:\n",
    "            \n",
    "            self.result[current_class] = {}\n",
    "                 \n",
    "            ## get all data points of current class\n",
    "            x_current = x[y==current_class]\n",
    "            y_current = y[y==current_class]\n",
    "            \n",
    "            num_features = x.shape[1]\n",
    "            ## total members of current class\n",
    "            self.result[current_class][\"total_count\"] = len(y_current)\n",
    "            \n",
    "            for j in range(1,num_features+1):\n",
    "                \n",
    "                self.result[current_class][j]= {}\n",
    "                \n",
    "                ## initialization\n",
    "                for i in range(784):\n",
    "                    self.result[current_class][j][i]=0\n",
    "                    \n",
    "                ## all possible values of feature at j'th position\n",
    "                all_possible_values = set(x[:,j-1])\n",
    "                \n",
    "                ## storing frequency count of j'th feature\n",
    "                for current_value in all_possible_values:\n",
    "                    \n",
    "                    self.result[current_class][j][current_value] = (x_current[:,j-1]==current_value).sum()\n",
    "                    \n",
    "    \n",
    "    ## calculate probability of data_point belonging to current_class\n",
    "    def probability(self, data_point, current_class):\n",
    "        \n",
    "        ## this is for weighted addition / multiplication of probabilities\n",
    "        ## we take log probabilities as it might be a small number and \n",
    "        ## multiplication of many small numbers will give a very small number\n",
    "        ## which is difficult to operate upon\n",
    "        output = np.log(self.result[current_class][\"total_count\"])-np.log(self.result[\"total_data\"])\n",
    "        \n",
    "        num_features = len(self.result[current_class].keys())-1\n",
    "        \n",
    "        ## iterate over all features to calculate probability\n",
    "        for j in range(1, num_features+1):\n",
    "            \n",
    "            ## value of feature j for current_class\n",
    "            xj = data_point[j-1]\n",
    "            \n",
    "            ## numerator\n",
    "            count_current_class_with_value_xj = self.result[current_class][j][xj]+1 ## 1 added for correction\n",
    "            \n",
    "            ## denominator\n",
    "            count_current_class = self.result[current_class][\"total_count\"] + len(self.result[current_class][j].keys())\n",
    "            \n",
    "            current_xj_probability = np.log(count_current_class_with_value_xj) - np.log(count_current_class)\n",
    "        \n",
    "            output = output + current_xj_probability\n",
    "            \n",
    "        return output\n",
    "       \n",
    "    ## makes prediction for a single data point. Finds the probability of the\n",
    "    ## data point belonging to every class and assigns the class having\n",
    "    ## maximum probability\n",
    "    def predict_single_point(self, data_point):\n",
    "        \n",
    "        all_classes = self.result.keys()\n",
    "        \n",
    "        best_p = -float(\"inf\")\n",
    "        best_class = -1\n",
    "        first_run = True\n",
    "        \n",
    "        for current_class in all_classes:\n",
    "            \n",
    "            if current_class == \"total_data\":\n",
    "                continue\n",
    "                \n",
    "            p_current_class = self.probability(data_point, current_class)\n",
    "            \n",
    "            if first_run or p_current_class > best_p:\n",
    "                best_p = p_current_class\n",
    "                best_class = current_class\n",
    "                \n",
    "            first_run = False\n",
    "            \n",
    "        return best_class\n",
    "        \n",
    "    ## to be called on testing data. It will make predictions for each\n",
    "    ## data point and append it in an array\n",
    "    def predict(self, x):\n",
    "        \n",
    "        y_pred = []\n",
    "        \n",
    "        for data_point in x:\n",
    "            \n",
    "            data_point_class = self.predict_single_point(data_point)\n",
    "            y_pred.append(data_point_class)\n",
    "            \n",
    "        return y_pred\n",
    "    \n",
    "    \n",
    "    ## returns list of probabilities of all classes\n",
    "    def get_proba_helper(self,data_point):\n",
    "        \n",
    "        proba = []\n",
    "        \n",
    "        all_classes = self.result.keys()\n",
    "        \n",
    "        for current_class in all_classes:\n",
    "            \n",
    "            if current_class == \"total_data\":\n",
    "                continue\n",
    "                \n",
    "            p_current_class = self.probability(data_point, current_class)\n",
    "            proba.append(p_current_class)\n",
    "          \n",
    "        return np.array(proba)\n",
    "        \n",
    "        \n",
    "        \n",
    "    ## returns probability of a data point belonging to a specified class\n",
    "    def get_proba(self,x):\n",
    "        \n",
    "        y_proba = []\n",
    "        \n",
    "        for i in range(len(x)):\n",
    "            \n",
    "            data_point = x[i]\n",
    "            probs = np.exp(self.get_proba_helper(data_point))\n",
    "            y_proba.append(probs/probs.sum())\n",
    "        return np.array(y_proba)\n",
    "    \n",
    "    \n",
    "## function to find mean accuracy. This is written outside the class so that we can use it without \n",
    "## creating an object as well, for more efficient useage.\n",
    "\n",
    "def score(y_pred, y_test):\n",
    "    count=0\n",
    "    for i in range(len(y_pred)):\n",
    "        if y_pred[i] == y_test[i]:\n",
    "            count+=1\n",
    "    return count/len(y_pred)"
   ]
  },
  {
   "cell_type": "code",
   "execution_count": 10,
   "metadata": {},
   "outputs": [
    {
     "name": "stdout",
     "output_type": "stream",
     "text": [
      "Train Score: 0.8714166666666666\n",
      "Test Score: 0.8365\n"
     ]
    }
   ],
   "source": [
    "## running model without KFold \n",
    "naive_bayes = Naive_Bayes()\n",
    "naive_bayes.fit(x_train, y_train)\n",
    "y_pred = naive_bayes.predict(x_test)\n",
    "print(\"Train Score:\",score(naive_bayes.predict(x_train),y_train))\n",
    "print(\"Test Score:\",score(naive_bayes.predict(x_test),y_test))"
   ]
  },
  {
   "cell_type": "markdown",
   "metadata": {},
   "source": [
    "### 3.2 K-Fold Cross Validation"
   ]
  },
  {
   "cell_type": "code",
   "execution_count": 11,
   "metadata": {},
   "outputs": [],
   "source": [
    "def KFold(k,x,y):\n",
    "    \n",
    "    scores = []\n",
    "    \n",
    "    fold_size = len(x)//k\n",
    "    \n",
    "    for i in range(k):\n",
    "        \n",
    "        \n",
    "        x_test = x[i*fold_size:(i+1)*fold_size]\n",
    "        y_test = y[i*fold_size:(i+1)*fold_size]\n",
    "        \n",
    "        if i>0:\n",
    "            \n",
    "            if i==k-1:\n",
    "                x_train=x[:i*fold_size]\n",
    "                y_train=y[:i*fold_size]\n",
    "            \n",
    "            else:\n",
    "                p = x[(i-1)*fold_size:i*fold_size]\n",
    "                n = x[(i+1)*fold_size:]\n",
    "                x_train=np.concatenate((p,n))\n",
    "                \n",
    "                p = y[(i-1)*fold_size:i*fold_size]\n",
    "                n = y[(i+1)*fold_size:]\n",
    "                y_train=np.concatenate((p,n))\n",
    "            \n",
    "        else:\n",
    "            x_train = x[(i+1)*fold_size:]\n",
    "            y_train = y[(i+1)*fold_size:]\n",
    "            \n",
    "        \n",
    "        naive_bayes = Naive_Bayes()\n",
    "        naive_bayes.fit(x_train,y_train)\n",
    "        scores.append(score(y_test,naive_bayes.predict(x_test)))\n",
    "    \n",
    "    print(\"Scores:\",scores)\n",
    "    print(\"Avg Score:\",sum(scores)/len(scores))\n"
   ]
  },
  {
   "cell_type": "code",
   "execution_count": 7,
   "metadata": {},
   "outputs": [
    {
     "name": "stdout",
     "output_type": "stream",
     "text": [
      "Scores: [0.8537142857142858, 0.8565714285714285, 0.8568571428571429, 0.8531428571428571]\n",
      "Avg Score: 0.8550714285714286\n"
     ]
    }
   ],
   "source": [
    "x = np.concatenate((x_train,x_test))\n",
    "y = np.concatenate((y_train,y_test))\n",
    "\n",
    "x.shape, y.shape\n",
    "\n",
    "KFold(4,x,y)"
   ]
  },
  {
   "cell_type": "markdown",
   "metadata": {},
   "source": [
    "### 3.3 Plots"
   ]
  },
  {
   "cell_type": "code",
   "execution_count": 66,
   "metadata": {},
   "outputs": [],
   "source": [
    "## function to calculate mean accuracy and confusion matrix\n",
    "def score(y,y_pred):\n",
    "    \n",
    "    c=0\n",
    "    for i in range(len(y)):\n",
    "        if y[i]==y_pred[i]:\n",
    "            c+=1\n",
    "            \n",
    "    return c/len(y)\n",
    "\n",
    "def confusionMatrix(y,y_pred):\n",
    "    \n",
    "    TP=0\n",
    "    FP=0\n",
    "    TN=0\n",
    "    FN=0\n",
    "    \n",
    "    for i in range(len(y)):\n",
    "        \n",
    "        if y[i]==y_pred[i]:\n",
    "            if y[i]==2:\n",
    "                TP+=1\n",
    "            else:\n",
    "                TN+=1\n",
    "        else:\n",
    "            if y_pred[i]==1:\n",
    "                FN+=1\n",
    "            else:\n",
    "                FP+=1 \n",
    "    \n",
    "    ## negative=0, positive=1\n",
    "    prec_0 = TN/(TN+FN)\n",
    "    recall_0 = TN/(TN+FP)\n",
    "    prec_1 = TP/(TP+FP)\n",
    "    recall_1 = TP/(TP+FN)\n",
    "    F1_0 = 2*prec_0*recall_0/(prec_0+recall_0)\n",
    "    F1_1 = 2*prec_1*recall_1/(prec_1+recall_1)\n",
    "    \n",
    "    cm = np.array([[TN,FP],[FN,TP]])\n",
    "    prm = np.array([[prec_0,recall_0,F1_0],[prec_1,recall_1,F1_1]])\n",
    "    print(\"Confusion Matrix (TN,FP,TP,FN) clockwise from top-left:\\n\",cm)\n",
    "    print()\n",
    "    print(\"Precision Recall F1-Score (1st row for label 0, 2nd row for label 1):\\n\",prm)"
   ]
  },
  {
   "cell_type": "code",
   "execution_count": 70,
   "metadata": {},
   "outputs": [
    {
     "name": "stdout",
     "output_type": "stream",
     "text": [
      "[[5422  578]\n",
      " [ 965 5035]]\n",
      "\n",
      "[[876 124]\n",
      " [203 797]]\n"
     ]
    },
    {
     "data": {
      "image/png": "[encoded data removed]",
      "text/plain": [
       "<Figure size 432x288 with 1 Axes>"
      ]
     },
     "metadata": {
      "needs_background": "light"
     },
     "output_type": "display_data"
    },
    {
     "data": {
      "image/png": "[encoded data removed]",
      "text/plain": [
       "<Figure size 432x288 with 1 Axes>"
      ]
     },
     "metadata": {
      "needs_background": "light"
     },
     "output_type": "display_data"
    },
    {
     "name": "stdout",
     "output_type": "stream",
     "text": [
      "              precision    recall  f1-score   support\n",
      "\n",
      "           1       0.85      0.90      0.88      6000\n",
      "           2       0.90      0.84      0.87      6000\n",
      "\n",
      "    accuracy                           0.87     12000\n",
      "   macro avg       0.87      0.87      0.87     12000\n",
      "weighted avg       0.87      0.87      0.87     12000\n",
      "\n",
      "\n",
      "              precision    recall  f1-score   support\n",
      "\n",
      "           1       0.81      0.88      0.84      1000\n",
      "           2       0.87      0.80      0.83      1000\n",
      "\n",
      "    accuracy                           0.84      2000\n",
      "   macro avg       0.84      0.84      0.84      2000\n",
      "weighted avg       0.84      0.84      0.84      2000\n",
      "\n",
      "\n",
      "\n",
      "\n",
      "Confusion Matrix (TN,FP,TP,FN) clockwise from top-left:\n",
      " [[5422  578]\n",
      " [ 965 5035]]\n",
      "\n",
      "Precision Recall F1-Score (1st row for label 0, 2nd row for label 1):\n",
      " [[0.84891185 0.90366667 0.87543392]\n",
      " [0.89702476 0.83916667 0.86713166]]\n",
      "\n",
      "Confusion Matrix (TN,FP,TP,FN) clockwise from top-left:\n",
      " [[876 124]\n",
      " [203 797]]\n",
      "\n",
      "Precision Recall F1-Score (1st row for label 0, 2nd row for label 1):\n",
      " [[0.81186284 0.876      0.84271284]\n",
      " [0.86536374 0.797      0.82977616]]\n"
     ]
    }
   ],
   "source": [
    "from sklearn.metrics import confusion_matrix, classification_report, plot_roc_curve\n",
    "from sklearn.naive_bayes import GaussianNB\n",
    "from sklearn import metrics\n",
    "import matplotlib.pyplot as plt\n",
    "\n",
    "naive_bayes = Naive_Bayes()\n",
    "naive_bayes.fit(x_train, y_train)\n",
    "y_train_pred = naive_bayes.predict(x_train)\n",
    "y_test_pred = naive_bayes.predict(x_test)\n",
    "\n",
    "## 3.3 (a)\n",
    "\n",
    "print(confusion_matrix(y_train,y_train_pred))\n",
    "print()\n",
    "print(confusion_matrix(y_test,y_test_pred))\n",
    "\n",
    "\n",
    "## 3.3 (b)\n",
    "\n",
    "y_train_proba = naive_bayes.get_proba(x_train)\n",
    "y_test_proba = naive_bayes.get_proba(x_test)\n",
    "\n",
    "fpr, tpr, threshold = metrics.roc_curve(y_train, y_train_proba[:,1],pos_label=2)\n",
    "roc_auc = metrics.auc(fpr, tpr)\n",
    "\n",
    "plt.title('ROC for Train Set')\n",
    "plt.plot(fpr, tpr, 'g', label = 'AUC = %0.2f' % roc_auc)\n",
    "plt.plot([0, 1], [0, 1],'r--')\n",
    "plt.xlim([0, 1])\n",
    "plt.ylim([0, 1])\n",
    "plt.ylabel('True Positive Rate')\n",
    "plt.xlabel('False Positive Rate')\n",
    "plt.legend()\n",
    "plt.show()\n",
    "\n",
    "fpr, tpr, threshold = metrics.roc_curve(y_test, y_test_proba[:,1],pos_label=2)\n",
    "roc_auc = metrics.auc(fpr, tpr)\n",
    "\n",
    "plt.title('ROC for Test Set')\n",
    "plt.plot(fpr, tpr, 'g', label = 'AUC = %0.2f' % roc_auc)\n",
    "plt.ylabel('True Positive Rate')\n",
    "plt.xlabel('False Positive Rate')\n",
    "plt.plot([0, 1], [0, 1],'r--')\n",
    "plt.xlim([0, 1])\n",
    "plt.ylim([0, 1])\n",
    "plt.legend()\n",
    "plt.show()\n",
    "\n",
    "\n",
    "## 3.3 (c)\n",
    "print(classification_report(y_train,y_train_pred))\n",
    "print()\n",
    "print(classification_report(y_test,y_test_pred))\n",
    "\n",
    "print(\"\\n\\n\")\n",
    "(confusionMatrix(y_train,y_train_pred))\n",
    "print()\n",
    "(confusionMatrix(y_test,y_test_pred))"
   ]
  }
 ],
 "metadata": {
  "kernelspec": {
   "display_name": "Python 3",
   "language": "python",
   "name": "python3"
  },
  "language_info": {
   "codemirror_mode": {
    "name": "ipython",
    "version": 3
   },
   "file_extension": ".py",
   "mimetype": "text/x-python",
   "name": "python",
   "nbconvert_exporter": "python",
   "pygments_lexer": "ipython3",
   "version": "3.8.10"
  }
 },
 "nbformat": 4,
 "nbformat_minor": 4
}
